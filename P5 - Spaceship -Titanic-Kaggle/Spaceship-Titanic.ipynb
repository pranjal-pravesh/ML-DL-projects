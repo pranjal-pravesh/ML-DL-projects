{
 "cells": [
  {
   "cell_type": "markdown",
   "id": "bf85d3ed",
   "metadata": {},
   "source": [
    "# Imports"
   ]
  },
  {
   "cell_type": "code",
   "execution_count": 1407,
   "id": "f8eae04d",
   "metadata": {},
   "outputs": [],
   "source": [
    "import pandas as pd\n",
    "import numpy as np\n",
    "from sklearn.linear_model import LogisticRegression\n",
    "import matplotlib.pyplot as plt\n",
    "import seaborn as sns"
   ]
  },
  {
   "cell_type": "markdown",
   "id": "ae20e6f4",
   "metadata": {},
   "source": [
    "# Data"
   ]
  },
  {
   "cell_type": "code",
   "execution_count": 1408,
   "id": "258a588b",
   "metadata": {},
   "outputs": [],
   "source": [
    "df = pd.read_csv('train.csv')\n",
    "pd.reset_option('display.max_columns')"
   ]
  },
  {
   "cell_type": "code",
   "execution_count": 1409,
   "id": "35a3f4e9",
   "metadata": {},
   "outputs": [
    {
     "data": {
      "text/html": [
       "<div>\n",
       "<style scoped>\n",
       "    .dataframe tbody tr th:only-of-type {\n",
       "        vertical-align: middle;\n",
       "    }\n",
       "\n",
       "    .dataframe tbody tr th {\n",
       "        vertical-align: top;\n",
       "    }\n",
       "\n",
       "    .dataframe thead th {\n",
       "        text-align: right;\n",
       "    }\n",
       "</style>\n",
       "<table border=\"1\" class=\"dataframe\">\n",
       "  <thead>\n",
       "    <tr style=\"text-align: right;\">\n",
       "      <th></th>\n",
       "      <th>PassengerId</th>\n",
       "      <th>HomePlanet</th>\n",
       "      <th>CryoSleep</th>\n",
       "      <th>Cabin</th>\n",
       "      <th>Destination</th>\n",
       "      <th>Age</th>\n",
       "      <th>VIP</th>\n",
       "      <th>RoomService</th>\n",
       "      <th>FoodCourt</th>\n",
       "      <th>ShoppingMall</th>\n",
       "      <th>Spa</th>\n",
       "      <th>VRDeck</th>\n",
       "      <th>Name</th>\n",
       "      <th>Transported</th>\n",
       "    </tr>\n",
       "  </thead>\n",
       "  <tbody>\n",
       "    <tr>\n",
       "      <th>0</th>\n",
       "      <td>0001_01</td>\n",
       "      <td>Europa</td>\n",
       "      <td>False</td>\n",
       "      <td>B/0/P</td>\n",
       "      <td>TRAPPIST-1e</td>\n",
       "      <td>39.0</td>\n",
       "      <td>False</td>\n",
       "      <td>0.0</td>\n",
       "      <td>0.0</td>\n",
       "      <td>0.0</td>\n",
       "      <td>0.0</td>\n",
       "      <td>0.0</td>\n",
       "      <td>Maham Ofracculy</td>\n",
       "      <td>False</td>\n",
       "    </tr>\n",
       "    <tr>\n",
       "      <th>1</th>\n",
       "      <td>0002_01</td>\n",
       "      <td>Earth</td>\n",
       "      <td>False</td>\n",
       "      <td>F/0/S</td>\n",
       "      <td>TRAPPIST-1e</td>\n",
       "      <td>24.0</td>\n",
       "      <td>False</td>\n",
       "      <td>109.0</td>\n",
       "      <td>9.0</td>\n",
       "      <td>25.0</td>\n",
       "      <td>549.0</td>\n",
       "      <td>44.0</td>\n",
       "      <td>Juanna Vines</td>\n",
       "      <td>True</td>\n",
       "    </tr>\n",
       "    <tr>\n",
       "      <th>2</th>\n",
       "      <td>0003_01</td>\n",
       "      <td>Europa</td>\n",
       "      <td>False</td>\n",
       "      <td>A/0/S</td>\n",
       "      <td>TRAPPIST-1e</td>\n",
       "      <td>58.0</td>\n",
       "      <td>True</td>\n",
       "      <td>43.0</td>\n",
       "      <td>3576.0</td>\n",
       "      <td>0.0</td>\n",
       "      <td>6715.0</td>\n",
       "      <td>49.0</td>\n",
       "      <td>Altark Susent</td>\n",
       "      <td>False</td>\n",
       "    </tr>\n",
       "    <tr>\n",
       "      <th>3</th>\n",
       "      <td>0003_02</td>\n",
       "      <td>Europa</td>\n",
       "      <td>False</td>\n",
       "      <td>A/0/S</td>\n",
       "      <td>TRAPPIST-1e</td>\n",
       "      <td>33.0</td>\n",
       "      <td>False</td>\n",
       "      <td>0.0</td>\n",
       "      <td>1283.0</td>\n",
       "      <td>371.0</td>\n",
       "      <td>3329.0</td>\n",
       "      <td>193.0</td>\n",
       "      <td>Solam Susent</td>\n",
       "      <td>False</td>\n",
       "    </tr>\n",
       "    <tr>\n",
       "      <th>4</th>\n",
       "      <td>0004_01</td>\n",
       "      <td>Earth</td>\n",
       "      <td>False</td>\n",
       "      <td>F/1/S</td>\n",
       "      <td>TRAPPIST-1e</td>\n",
       "      <td>16.0</td>\n",
       "      <td>False</td>\n",
       "      <td>303.0</td>\n",
       "      <td>70.0</td>\n",
       "      <td>151.0</td>\n",
       "      <td>565.0</td>\n",
       "      <td>2.0</td>\n",
       "      <td>Willy Santantines</td>\n",
       "      <td>True</td>\n",
       "    </tr>\n",
       "  </tbody>\n",
       "</table>\n",
       "</div>"
      ],
      "text/plain": [
       "  PassengerId HomePlanet CryoSleep  Cabin  Destination   Age    VIP  \\\n",
       "0     0001_01     Europa     False  B/0/P  TRAPPIST-1e  39.0  False   \n",
       "1     0002_01      Earth     False  F/0/S  TRAPPIST-1e  24.0  False   \n",
       "2     0003_01     Europa     False  A/0/S  TRAPPIST-1e  58.0   True   \n",
       "3     0003_02     Europa     False  A/0/S  TRAPPIST-1e  33.0  False   \n",
       "4     0004_01      Earth     False  F/1/S  TRAPPIST-1e  16.0  False   \n",
       "\n",
       "   RoomService  FoodCourt  ShoppingMall     Spa  VRDeck               Name  \\\n",
       "0          0.0        0.0           0.0     0.0     0.0    Maham Ofracculy   \n",
       "1        109.0        9.0          25.0   549.0    44.0       Juanna Vines   \n",
       "2         43.0     3576.0           0.0  6715.0    49.0      Altark Susent   \n",
       "3          0.0     1283.0         371.0  3329.0   193.0       Solam Susent   \n",
       "4        303.0       70.0         151.0   565.0     2.0  Willy Santantines   \n",
       "\n",
       "   Transported  \n",
       "0        False  \n",
       "1         True  \n",
       "2        False  \n",
       "3        False  \n",
       "4         True  "
      ]
     },
     "execution_count": 1409,
     "metadata": {},
     "output_type": "execute_result"
    }
   ],
   "source": [
    "df.head()"
   ]
  },
  {
   "cell_type": "code",
   "execution_count": 1410,
   "id": "b68060ac",
   "metadata": {},
   "outputs": [
    {
     "name": "stdout",
     "output_type": "stream",
     "text": [
      "(8693, 14)\n",
      "PassengerId       0\n",
      "HomePlanet      201\n",
      "CryoSleep       217\n",
      "Cabin           199\n",
      "Destination     182\n",
      "Age             179\n",
      "VIP             203\n",
      "RoomService     181\n",
      "FoodCourt       183\n",
      "ShoppingMall    208\n",
      "Spa             183\n",
      "VRDeck          188\n",
      "Name            200\n",
      "Transported       0\n",
      "dtype: int64\n"
     ]
    }
   ],
   "source": [
    "print(df.shape)\n",
    "print(df.isnull().sum())"
   ]
  },
  {
   "cell_type": "code",
   "execution_count": 1411,
   "id": "dab4486e",
   "metadata": {},
   "outputs": [
    {
     "data": {
      "text/html": [
       "<div>\n",
       "<style scoped>\n",
       "    .dataframe tbody tr th:only-of-type {\n",
       "        vertical-align: middle;\n",
       "    }\n",
       "\n",
       "    .dataframe tbody tr th {\n",
       "        vertical-align: top;\n",
       "    }\n",
       "\n",
       "    .dataframe thead th {\n",
       "        text-align: right;\n",
       "    }\n",
       "</style>\n",
       "<table border=\"1\" class=\"dataframe\">\n",
       "  <thead>\n",
       "    <tr style=\"text-align: right;\">\n",
       "      <th></th>\n",
       "      <th>Age</th>\n",
       "      <th>RoomService</th>\n",
       "      <th>FoodCourt</th>\n",
       "      <th>ShoppingMall</th>\n",
       "      <th>Spa</th>\n",
       "      <th>VRDeck</th>\n",
       "    </tr>\n",
       "  </thead>\n",
       "  <tbody>\n",
       "    <tr>\n",
       "      <th>count</th>\n",
       "      <td>8514.000000</td>\n",
       "      <td>8512.000000</td>\n",
       "      <td>8510.000000</td>\n",
       "      <td>8485.000000</td>\n",
       "      <td>8510.000000</td>\n",
       "      <td>8505.000000</td>\n",
       "    </tr>\n",
       "    <tr>\n",
       "      <th>mean</th>\n",
       "      <td>28.827930</td>\n",
       "      <td>224.687617</td>\n",
       "      <td>458.077203</td>\n",
       "      <td>173.729169</td>\n",
       "      <td>311.138778</td>\n",
       "      <td>304.854791</td>\n",
       "    </tr>\n",
       "    <tr>\n",
       "      <th>std</th>\n",
       "      <td>14.489021</td>\n",
       "      <td>666.717663</td>\n",
       "      <td>1611.489240</td>\n",
       "      <td>604.696458</td>\n",
       "      <td>1136.705535</td>\n",
       "      <td>1145.717189</td>\n",
       "    </tr>\n",
       "    <tr>\n",
       "      <th>min</th>\n",
       "      <td>0.000000</td>\n",
       "      <td>0.000000</td>\n",
       "      <td>0.000000</td>\n",
       "      <td>0.000000</td>\n",
       "      <td>0.000000</td>\n",
       "      <td>0.000000</td>\n",
       "    </tr>\n",
       "    <tr>\n",
       "      <th>25%</th>\n",
       "      <td>19.000000</td>\n",
       "      <td>0.000000</td>\n",
       "      <td>0.000000</td>\n",
       "      <td>0.000000</td>\n",
       "      <td>0.000000</td>\n",
       "      <td>0.000000</td>\n",
       "    </tr>\n",
       "    <tr>\n",
       "      <th>50%</th>\n",
       "      <td>27.000000</td>\n",
       "      <td>0.000000</td>\n",
       "      <td>0.000000</td>\n",
       "      <td>0.000000</td>\n",
       "      <td>0.000000</td>\n",
       "      <td>0.000000</td>\n",
       "    </tr>\n",
       "    <tr>\n",
       "      <th>75%</th>\n",
       "      <td>38.000000</td>\n",
       "      <td>47.000000</td>\n",
       "      <td>76.000000</td>\n",
       "      <td>27.000000</td>\n",
       "      <td>59.000000</td>\n",
       "      <td>46.000000</td>\n",
       "    </tr>\n",
       "    <tr>\n",
       "      <th>max</th>\n",
       "      <td>79.000000</td>\n",
       "      <td>14327.000000</td>\n",
       "      <td>29813.000000</td>\n",
       "      <td>23492.000000</td>\n",
       "      <td>22408.000000</td>\n",
       "      <td>24133.000000</td>\n",
       "    </tr>\n",
       "  </tbody>\n",
       "</table>\n",
       "</div>"
      ],
      "text/plain": [
       "               Age   RoomService     FoodCourt  ShoppingMall           Spa  \\\n",
       "count  8514.000000   8512.000000   8510.000000   8485.000000   8510.000000   \n",
       "mean     28.827930    224.687617    458.077203    173.729169    311.138778   \n",
       "std      14.489021    666.717663   1611.489240    604.696458   1136.705535   \n",
       "min       0.000000      0.000000      0.000000      0.000000      0.000000   \n",
       "25%      19.000000      0.000000      0.000000      0.000000      0.000000   \n",
       "50%      27.000000      0.000000      0.000000      0.000000      0.000000   \n",
       "75%      38.000000     47.000000     76.000000     27.000000     59.000000   \n",
       "max      79.000000  14327.000000  29813.000000  23492.000000  22408.000000   \n",
       "\n",
       "             VRDeck  \n",
       "count   8505.000000  \n",
       "mean     304.854791  \n",
       "std     1145.717189  \n",
       "min        0.000000  \n",
       "25%        0.000000  \n",
       "50%        0.000000  \n",
       "75%       46.000000  \n",
       "max    24133.000000  "
      ]
     },
     "execution_count": 1411,
     "metadata": {},
     "output_type": "execute_result"
    }
   ],
   "source": [
    "df.describe()"
   ]
  },
  {
   "cell_type": "code",
   "execution_count": 1412,
   "id": "54774597",
   "metadata": {},
   "outputs": [
    {
     "data": {
      "text/html": [
       "<div>\n",
       "<style scoped>\n",
       "    .dataframe tbody tr th:only-of-type {\n",
       "        vertical-align: middle;\n",
       "    }\n",
       "\n",
       "    .dataframe tbody tr th {\n",
       "        vertical-align: top;\n",
       "    }\n",
       "\n",
       "    .dataframe thead th {\n",
       "        text-align: right;\n",
       "    }\n",
       "</style>\n",
       "<table border=\"1\" class=\"dataframe\">\n",
       "  <thead>\n",
       "    <tr style=\"text-align: right;\">\n",
       "      <th></th>\n",
       "      <th>Age</th>\n",
       "      <th>RoomService</th>\n",
       "      <th>FoodCourt</th>\n",
       "      <th>ShoppingMall</th>\n",
       "      <th>Spa</th>\n",
       "      <th>VRDeck</th>\n",
       "    </tr>\n",
       "    <tr>\n",
       "      <th>Transported</th>\n",
       "      <th></th>\n",
       "      <th></th>\n",
       "      <th></th>\n",
       "      <th></th>\n",
       "      <th></th>\n",
       "      <th></th>\n",
       "    </tr>\n",
       "  </thead>\n",
       "  <tbody>\n",
       "    <tr>\n",
       "      <th>False</th>\n",
       "      <td>29.922858</td>\n",
       "      <td>389.266066</td>\n",
       "      <td>382.615930</td>\n",
       "      <td>167.566217</td>\n",
       "      <td>564.382666</td>\n",
       "      <td>543.629822</td>\n",
       "    </tr>\n",
       "    <tr>\n",
       "      <th>True</th>\n",
       "      <td>27.748834</td>\n",
       "      <td>63.098021</td>\n",
       "      <td>532.691984</td>\n",
       "      <td>179.829972</td>\n",
       "      <td>61.675531</td>\n",
       "      <td>69.148131</td>\n",
       "    </tr>\n",
       "  </tbody>\n",
       "</table>\n",
       "</div>"
      ],
      "text/plain": [
       "                   Age  RoomService   FoodCourt  ShoppingMall         Spa  \\\n",
       "Transported                                                                 \n",
       "False        29.922858   389.266066  382.615930    167.566217  564.382666   \n",
       "True         27.748834    63.098021  532.691984    179.829972   61.675531   \n",
       "\n",
       "                 VRDeck  \n",
       "Transported              \n",
       "False        543.629822  \n",
       "True          69.148131  "
      ]
     },
     "execution_count": 1412,
     "metadata": {},
     "output_type": "execute_result"
    }
   ],
   "source": [
    "df.groupby('Transported').mean()"
   ]
  },
  {
   "cell_type": "code",
   "execution_count": 1413,
   "id": "66567481",
   "metadata": {},
   "outputs": [
    {
     "name": "stdout",
     "output_type": "stream",
     "text": [
      "Unique values and their counts in column 'HomePlanet':\n",
      "Earth     4602\n",
      "Europa    2131\n",
      "Mars      1759\n",
      "NaN        201\n",
      "Name: HomePlanet, dtype: int64\n",
      "\n",
      "Unique values and their counts in column 'CryoSleep':\n",
      "False    5439\n",
      "True     3037\n",
      "NaN       217\n",
      "Name: CryoSleep, dtype: int64\n",
      "\n",
      "Unique values and their counts in column 'Cabin':\n",
      "NaN        199\n",
      "G/734/S      8\n",
      "C/137/S      7\n",
      "B/201/P      7\n",
      "G/109/P      7\n",
      "          ... \n",
      "G/556/P      1\n",
      "E/231/S      1\n",
      "G/545/S      1\n",
      "G/543/S      1\n",
      "C/178/S      1\n",
      "Name: Cabin, Length: 6561, dtype: int64\n",
      "\n",
      "Unique values and their counts in column 'Destination':\n",
      "TRAPPIST-1e      5915\n",
      "55 Cancri e      1800\n",
      "PSO J318.5-22     796\n",
      "NaN               182\n",
      "Name: Destination, dtype: int64\n",
      "\n"
     ]
    }
   ],
   "source": [
    "# Loop through the selected columns and print unique values with counts\n",
    "for column in ['HomePlanet', 'CryoSleep', 'Cabin', 'Destination']:\n",
    "    print(f\"Unique values and their counts in column '{column}':\")\n",
    "    print(df[column].value_counts(dropna=False))  # Include NaN in counts\n",
    "    print()  # Blank line for better readability\n"
   ]
  },
  {
   "cell_type": "code",
   "execution_count": null,
   "id": "fed247e5",
   "metadata": {},
   "outputs": [],
   "source": []
  },
  {
   "cell_type": "code",
   "execution_count": null,
   "id": "a4004de3",
   "metadata": {},
   "outputs": [],
   "source": []
  },
  {
   "cell_type": "markdown",
   "id": "8da1578e",
   "metadata": {},
   "source": [
    "# Handle Missing Values"
   ]
  },
  {
   "cell_type": "code",
   "execution_count": 1414,
   "id": "3749dc7e",
   "metadata": {},
   "outputs": [],
   "source": [
    "df.drop(columns=['Name'], inplace=True)"
   ]
  },
  {
   "cell_type": "code",
   "execution_count": 1415,
   "id": "9408607c",
   "metadata": {},
   "outputs": [],
   "source": [
    "# Fill categorical columns with mode\n",
    "df['HomePlanet'].fillna(df['HomePlanet'].mode()[0], inplace=True)\n",
    "df['CryoSleep'].fillna(False, inplace=True)  # Assuming missing means not in cryosleep\n",
    "df['Destination'].fillna(df['Destination'].mode()[0], inplace=True)\n",
    "df['VIP'].fillna(False, inplace=True)  # Assuming missing means not a VIP"
   ]
  },
  {
   "cell_type": "code",
   "execution_count": 1416,
   "id": "4e8a9090",
   "metadata": {},
   "outputs": [],
   "source": [
    "# Fill numerical columns with median or mean\n",
    "df['Age'].fillna(df['Age'].median(), inplace=True)\n",
    "# df['RoomService'].fillna(0, inplace=True)\n",
    "# df['FoodCourt'].fillna(0, inplace=True)\n",
    "# df['ShoppingMall'].fillna(0, inplace=True)\n",
    "# df['Spa'].fillna(0, inplace=True)\n",
    "# df['VRDeck'].fillna(0, inplace=True)"
   ]
  },
  {
   "cell_type": "code",
   "execution_count": 1417,
   "id": "00b339d7",
   "metadata": {},
   "outputs": [
    {
     "name": "stdout",
     "output_type": "stream",
     "text": [
      "PassengerId       0\n",
      "HomePlanet        0\n",
      "CryoSleep         0\n",
      "Cabin           199\n",
      "Destination       0\n",
      "Age               0\n",
      "VIP               0\n",
      "RoomService     181\n",
      "FoodCourt       183\n",
      "ShoppingMall    208\n",
      "Spa             183\n",
      "VRDeck          188\n",
      "Transported       0\n",
      "dtype: int64\n"
     ]
    }
   ],
   "source": [
    "print(df.isnull().sum())"
   ]
  },
  {
   "cell_type": "code",
   "execution_count": 1418,
   "id": "0248f1de",
   "metadata": {},
   "outputs": [],
   "source": [
    "df.shape\n",
    "df.dropna(inplace=True)"
   ]
  },
  {
   "cell_type": "markdown",
   "id": "2ae44e7f",
   "metadata": {},
   "source": [
    "# Visualize and Transform"
   ]
  },
  {
   "cell_type": "code",
   "execution_count": 1419,
   "id": "8c1bdacf",
   "metadata": {},
   "outputs": [
    {
     "data": {
      "text/html": [
       "<div>\n",
       "<style scoped>\n",
       "    .dataframe tbody tr th:only-of-type {\n",
       "        vertical-align: middle;\n",
       "    }\n",
       "\n",
       "    .dataframe tbody tr th {\n",
       "        vertical-align: top;\n",
       "    }\n",
       "\n",
       "    .dataframe thead th {\n",
       "        text-align: right;\n",
       "    }\n",
       "</style>\n",
       "<table border=\"1\" class=\"dataframe\">\n",
       "  <thead>\n",
       "    <tr style=\"text-align: right;\">\n",
       "      <th></th>\n",
       "      <th>CryoSleep</th>\n",
       "      <th>Age</th>\n",
       "      <th>VIP</th>\n",
       "      <th>RoomService</th>\n",
       "      <th>FoodCourt</th>\n",
       "      <th>ShoppingMall</th>\n",
       "      <th>Spa</th>\n",
       "      <th>VRDeck</th>\n",
       "    </tr>\n",
       "    <tr>\n",
       "      <th>Transported</th>\n",
       "      <th></th>\n",
       "      <th></th>\n",
       "      <th></th>\n",
       "      <th></th>\n",
       "      <th></th>\n",
       "      <th></th>\n",
       "      <th></th>\n",
       "      <th></th>\n",
       "    </tr>\n",
       "  </thead>\n",
       "  <tbody>\n",
       "    <tr>\n",
       "      <th>False</th>\n",
       "      <td>0.126850</td>\n",
       "      <td>29.981501</td>\n",
       "      <td>0.028805</td>\n",
       "      <td>384.117865</td>\n",
       "      <td>382.40037</td>\n",
       "      <td>167.956395</td>\n",
       "      <td>567.801797</td>\n",
       "      <td>531.864165</td>\n",
       "    </tr>\n",
       "    <tr>\n",
       "      <th>True</th>\n",
       "      <td>0.558785</td>\n",
       "      <td>27.727677</td>\n",
       "      <td>0.017020</td>\n",
       "      <td>63.554334</td>\n",
       "      <td>555.94894</td>\n",
       "      <td>179.569259</td>\n",
       "      <td>62.189055</td>\n",
       "      <td>70.167845</td>\n",
       "    </tr>\n",
       "  </tbody>\n",
       "</table>\n",
       "</div>"
      ],
      "text/plain": [
       "             CryoSleep        Age       VIP  RoomService  FoodCourt  \\\n",
       "Transported                                                           \n",
       "False         0.126850  29.981501  0.028805   384.117865  382.40037   \n",
       "True          0.558785  27.727677  0.017020    63.554334  555.94894   \n",
       "\n",
       "             ShoppingMall         Spa      VRDeck  \n",
       "Transported                                        \n",
       "False          167.956395  567.801797  531.864165  \n",
       "True           179.569259   62.189055   70.167845  "
      ]
     },
     "execution_count": 1419,
     "metadata": {},
     "output_type": "execute_result"
    }
   ],
   "source": [
    "df.groupby('Transported').mean()"
   ]
  },
  {
   "cell_type": "markdown",
   "id": "70cd01c0",
   "metadata": {},
   "source": [
    "# Split Columns"
   ]
  },
  {
   "cell_type": "code",
   "execution_count": 1420,
   "id": "dd39b8f5",
   "metadata": {},
   "outputs": [],
   "source": [
    "# Split the 'Cabin' column into 'Deck', 'Num', and 'Side'\n",
    "df[['Deck', 'Num', 'Side']] = df['Cabin'].str.split('/', expand=True)\n",
    "\n",
    "# Convert 'Num' to numeric for further processing\n",
    "df['Num'] = pd.to_numeric(df['Num'], errors='coerce')"
   ]
  },
  {
   "cell_type": "code",
   "execution_count": 1421,
   "id": "b24e53df",
   "metadata": {},
   "outputs": [],
   "source": [
    "# Split 'PassengerId' into 'GroupId' and 'PassengerNum'\n",
    "df[['GroupId', 'PassengerNum']] = df['PassengerId'].str.split('_', expand=True)\n",
    "\n",
    "# Convert the new columns to integer type for numerical analysis\n",
    "df['GroupId'] = df['GroupId'].astype(int)\n",
    "df['PassengerNum'] = df['PassengerNum'].astype(int)"
   ]
  },
  {
   "cell_type": "code",
   "execution_count": 1422,
   "id": "37ca1b08",
   "metadata": {},
   "outputs": [
    {
     "data": {
      "text/html": [
       "<div>\n",
       "<style scoped>\n",
       "    .dataframe tbody tr th:only-of-type {\n",
       "        vertical-align: middle;\n",
       "    }\n",
       "\n",
       "    .dataframe tbody tr th {\n",
       "        vertical-align: top;\n",
       "    }\n",
       "\n",
       "    .dataframe thead th {\n",
       "        text-align: right;\n",
       "    }\n",
       "</style>\n",
       "<table border=\"1\" class=\"dataframe\">\n",
       "  <thead>\n",
       "    <tr style=\"text-align: right;\">\n",
       "      <th></th>\n",
       "      <th>PassengerId</th>\n",
       "      <th>HomePlanet</th>\n",
       "      <th>CryoSleep</th>\n",
       "      <th>Cabin</th>\n",
       "      <th>Destination</th>\n",
       "      <th>Age</th>\n",
       "      <th>VIP</th>\n",
       "      <th>RoomService</th>\n",
       "      <th>FoodCourt</th>\n",
       "      <th>ShoppingMall</th>\n",
       "      <th>Spa</th>\n",
       "      <th>VRDeck</th>\n",
       "      <th>Transported</th>\n",
       "      <th>Deck</th>\n",
       "      <th>Num</th>\n",
       "      <th>Side</th>\n",
       "      <th>GroupId</th>\n",
       "      <th>PassengerNum</th>\n",
       "    </tr>\n",
       "  </thead>\n",
       "  <tbody>\n",
       "    <tr>\n",
       "      <th>0</th>\n",
       "      <td>0001_01</td>\n",
       "      <td>Europa</td>\n",
       "      <td>False</td>\n",
       "      <td>B/0/P</td>\n",
       "      <td>TRAPPIST-1e</td>\n",
       "      <td>39.0</td>\n",
       "      <td>False</td>\n",
       "      <td>0.0</td>\n",
       "      <td>0.0</td>\n",
       "      <td>0.0</td>\n",
       "      <td>0.0</td>\n",
       "      <td>0.0</td>\n",
       "      <td>False</td>\n",
       "      <td>B</td>\n",
       "      <td>0</td>\n",
       "      <td>P</td>\n",
       "      <td>1</td>\n",
       "      <td>1</td>\n",
       "    </tr>\n",
       "    <tr>\n",
       "      <th>1</th>\n",
       "      <td>0002_01</td>\n",
       "      <td>Earth</td>\n",
       "      <td>False</td>\n",
       "      <td>F/0/S</td>\n",
       "      <td>TRAPPIST-1e</td>\n",
       "      <td>24.0</td>\n",
       "      <td>False</td>\n",
       "      <td>109.0</td>\n",
       "      <td>9.0</td>\n",
       "      <td>25.0</td>\n",
       "      <td>549.0</td>\n",
       "      <td>44.0</td>\n",
       "      <td>True</td>\n",
       "      <td>F</td>\n",
       "      <td>0</td>\n",
       "      <td>S</td>\n",
       "      <td>2</td>\n",
       "      <td>1</td>\n",
       "    </tr>\n",
       "    <tr>\n",
       "      <th>2</th>\n",
       "      <td>0003_01</td>\n",
       "      <td>Europa</td>\n",
       "      <td>False</td>\n",
       "      <td>A/0/S</td>\n",
       "      <td>TRAPPIST-1e</td>\n",
       "      <td>58.0</td>\n",
       "      <td>True</td>\n",
       "      <td>43.0</td>\n",
       "      <td>3576.0</td>\n",
       "      <td>0.0</td>\n",
       "      <td>6715.0</td>\n",
       "      <td>49.0</td>\n",
       "      <td>False</td>\n",
       "      <td>A</td>\n",
       "      <td>0</td>\n",
       "      <td>S</td>\n",
       "      <td>3</td>\n",
       "      <td>1</td>\n",
       "    </tr>\n",
       "    <tr>\n",
       "      <th>3</th>\n",
       "      <td>0003_02</td>\n",
       "      <td>Europa</td>\n",
       "      <td>False</td>\n",
       "      <td>A/0/S</td>\n",
       "      <td>TRAPPIST-1e</td>\n",
       "      <td>33.0</td>\n",
       "      <td>False</td>\n",
       "      <td>0.0</td>\n",
       "      <td>1283.0</td>\n",
       "      <td>371.0</td>\n",
       "      <td>3329.0</td>\n",
       "      <td>193.0</td>\n",
       "      <td>False</td>\n",
       "      <td>A</td>\n",
       "      <td>0</td>\n",
       "      <td>S</td>\n",
       "      <td>3</td>\n",
       "      <td>2</td>\n",
       "    </tr>\n",
       "    <tr>\n",
       "      <th>4</th>\n",
       "      <td>0004_01</td>\n",
       "      <td>Earth</td>\n",
       "      <td>False</td>\n",
       "      <td>F/1/S</td>\n",
       "      <td>TRAPPIST-1e</td>\n",
       "      <td>16.0</td>\n",
       "      <td>False</td>\n",
       "      <td>303.0</td>\n",
       "      <td>70.0</td>\n",
       "      <td>151.0</td>\n",
       "      <td>565.0</td>\n",
       "      <td>2.0</td>\n",
       "      <td>True</td>\n",
       "      <td>F</td>\n",
       "      <td>1</td>\n",
       "      <td>S</td>\n",
       "      <td>4</td>\n",
       "      <td>1</td>\n",
       "    </tr>\n",
       "  </tbody>\n",
       "</table>\n",
       "</div>"
      ],
      "text/plain": [
       "  PassengerId HomePlanet  CryoSleep  Cabin  Destination   Age    VIP  \\\n",
       "0     0001_01     Europa      False  B/0/P  TRAPPIST-1e  39.0  False   \n",
       "1     0002_01      Earth      False  F/0/S  TRAPPIST-1e  24.0  False   \n",
       "2     0003_01     Europa      False  A/0/S  TRAPPIST-1e  58.0   True   \n",
       "3     0003_02     Europa      False  A/0/S  TRAPPIST-1e  33.0  False   \n",
       "4     0004_01      Earth      False  F/1/S  TRAPPIST-1e  16.0  False   \n",
       "\n",
       "   RoomService  FoodCourt  ShoppingMall     Spa  VRDeck  Transported Deck  \\\n",
       "0          0.0        0.0           0.0     0.0     0.0        False    B   \n",
       "1        109.0        9.0          25.0   549.0    44.0         True    F   \n",
       "2         43.0     3576.0           0.0  6715.0    49.0        False    A   \n",
       "3          0.0     1283.0         371.0  3329.0   193.0        False    A   \n",
       "4        303.0       70.0         151.0   565.0     2.0         True    F   \n",
       "\n",
       "   Num Side  GroupId  PassengerNum  \n",
       "0    0    P        1             1  \n",
       "1    0    S        2             1  \n",
       "2    0    S        3             1  \n",
       "3    0    S        3             2  \n",
       "4    1    S        4             1  "
      ]
     },
     "execution_count": 1422,
     "metadata": {},
     "output_type": "execute_result"
    }
   ],
   "source": [
    "df.head()"
   ]
  },
  {
   "cell_type": "code",
   "execution_count": 1423,
   "id": "56a2a741",
   "metadata": {},
   "outputs": [
    {
     "name": "stdout",
     "output_type": "stream",
     "text": [
      "Unique values and their counts in column 'Deck':\n",
      "F    2489\n",
      "G    2274\n",
      "E     797\n",
      "B     708\n",
      "C     668\n",
      "D     425\n",
      "A     238\n",
      "T       4\n",
      "Name: Deck, dtype: int64\n",
      "\n",
      "Unique values and their counts in column 'Num':\n",
      "82      24\n",
      "19      22\n",
      "97      21\n",
      "56      20\n",
      "176     20\n",
      "        ..\n",
      "1036     1\n",
      "1116     1\n",
      "1538     1\n",
      "1536     1\n",
      "1527     1\n",
      "Name: Num, Length: 1784, dtype: int64\n",
      "\n",
      "Unique values and their counts in column 'Side':\n",
      "S    3857\n",
      "P    3746\n",
      "Name: Side, dtype: int64\n",
      "\n"
     ]
    }
   ],
   "source": [
    "# Loop through the selected columns and print unique values with counts\n",
    "for column in ['Deck', 'Num', 'Side']:\n",
    "    print(f\"Unique values and their counts in column '{column}':\")\n",
    "    print(df[column].value_counts(dropna=False))  # Include NaN in counts\n",
    "    print()  # Blank line for better readability"
   ]
  },
  {
   "cell_type": "code",
   "execution_count": 1424,
   "id": "93d21ccb",
   "metadata": {
    "scrolled": false
   },
   "outputs": [
    {
     "data": {
      "image/png": "[encoded data removed]",
      "text/plain": [
       "<Figure size 700x600 with 4 Axes>"
      ]
     },
     "metadata": {},
     "output_type": "display_data"
    }
   ],
   "source": [
    "# Define categorical columns to plot\n",
    "categorical_columns = ['HomePlanet', 'CryoSleep', 'Destination', 'Deck']\n",
    "\n",
    "# Create a 2x2 grid of subplots (adjust number of rows and columns as needed)\n",
    "fig, axes = plt.subplots(2, 2, figsize=(7, 6))  # Adjust figure size accordingly\n",
    "\n",
    "# Flatten axes for easier iteration\n",
    "axes = axes.flatten()\n",
    "\n",
    "# Loop through columns and plot count plots\n",
    "for i, col in enumerate(categorical_columns):\n",
    "    sns.countplot(data=df, x=col, ax=axes[i])  # Plot on specific axes\n",
    "    axes[i].set_title(f\"Count of {col}\")\n",
    "    axes[i].tick_params(axis='x', rotation=45)  # Rotate x-axis labels for readability\n",
    "\n",
    "# Adjust layout to prevent overlap\n",
    "plt.tight_layout()\n",
    "plt.show()"
   ]
  },
  {
   "cell_type": "code",
   "execution_count": 1425,
   "id": "f18b848c",
   "metadata": {
    "scrolled": false
   },
   "outputs": [
    {
     "data": {
      "image/png": "[encoded data removed]",
      "text/plain": [
       "<Figure size 1000x800 with 6 Axes>"
      ]
     },
     "metadata": {},
     "output_type": "display_data"
    }
   ],
   "source": [
    "# Define numerical columns to plot\n",
    "numerical_columns = ['Age', 'RoomService', 'FoodCourt', 'ShoppingMall', 'Spa', 'VRDeck']\n",
    "\n",
    "# Create a 3x2 grid of subplots (to fit 6 plots)\n",
    "fig, axes = plt.subplots(3, 2, figsize=(10, 8))  # Adjust figure size accordingly\n",
    "\n",
    "# Flatten axes for easier iteration\n",
    "axes = axes.flatten()\n",
    "\n",
    "# Loop through columns and plot histograms with KDE\n",
    "for i, col in enumerate(numerical_columns):\n",
    "    sns.histplot(df[col], kde=True, bins=30, ax=axes[i])  # Plot on specific axes\n",
    "    axes[i].set_title(f\"Distribution of {col}\")\n",
    "    axes[i].tick_params(axis='x', rotation=45)  # Rotate x-axis labels for readability\n",
    "\n",
    "# Adjust layout to prevent overlap\n",
    "plt.tight_layout()\n",
    "plt.show()"
   ]
  },
  {
   "cell_type": "code",
   "execution_count": 1426,
   "id": "0b829f0d",
   "metadata": {},
   "outputs": [
    {
     "data": {
      "image/png": "[encoded data removed]",
      "text/plain": [
       "<Figure size 1000x600 with 2 Axes>"
      ]
     },
     "metadata": {},
     "output_type": "display_data"
    }
   ],
   "source": [
    "# Correlation heatmap\n",
    "plt.figure(figsize=(10, 6))\n",
    "sns.heatmap(df[numerical_columns].corr(), annot=True, cmap='coolwarm', fmt='.2f')\n",
    "plt.title(\"Correlation Matrix\")\n",
    "plt.show()"
   ]
  },
  {
   "cell_type": "markdown",
   "id": "2d8052a6",
   "metadata": {},
   "source": [
    "# Drop Some Columns"
   ]
  },
  {
   "cell_type": "code",
   "execution_count": 1427,
   "id": "e957b33e",
   "metadata": {},
   "outputs": [],
   "source": [
    "df.drop(columns=['PassengerId', 'Cabin'], inplace=True) \n",
    "# We have split these columns already"
   ]
  },
  {
   "cell_type": "code",
   "execution_count": 1428,
   "id": "b61b98cc",
   "metadata": {},
   "outputs": [
    {
     "data": {
      "text/html": [
       "<div>\n",
       "<style scoped>\n",
       "    .dataframe tbody tr th:only-of-type {\n",
       "        vertical-align: middle;\n",
       "    }\n",
       "\n",
       "    .dataframe tbody tr th {\n",
       "        vertical-align: top;\n",
       "    }\n",
       "\n",
       "    .dataframe thead th {\n",
       "        text-align: right;\n",
       "    }\n",
       "</style>\n",
       "<table border=\"1\" class=\"dataframe\">\n",
       "  <thead>\n",
       "    <tr style=\"text-align: right;\">\n",
       "      <th></th>\n",
       "      <th>HomePlanet</th>\n",
       "      <th>CryoSleep</th>\n",
       "      <th>Destination</th>\n",
       "      <th>Age</th>\n",
       "      <th>VIP</th>\n",
       "      <th>RoomService</th>\n",
       "      <th>FoodCourt</th>\n",
       "      <th>ShoppingMall</th>\n",
       "      <th>Spa</th>\n",
       "      <th>VRDeck</th>\n",
       "      <th>Transported</th>\n",
       "      <th>Deck</th>\n",
       "      <th>Num</th>\n",
       "      <th>Side</th>\n",
       "      <th>GroupId</th>\n",
       "      <th>PassengerNum</th>\n",
       "    </tr>\n",
       "  </thead>\n",
       "  <tbody>\n",
       "    <tr>\n",
       "      <th>0</th>\n",
       "      <td>Europa</td>\n",
       "      <td>False</td>\n",
       "      <td>TRAPPIST-1e</td>\n",
       "      <td>39.0</td>\n",
       "      <td>False</td>\n",
       "      <td>0.0</td>\n",
       "      <td>0.0</td>\n",
       "      <td>0.0</td>\n",
       "      <td>0.0</td>\n",
       "      <td>0.0</td>\n",
       "      <td>False</td>\n",
       "      <td>B</td>\n",
       "      <td>0</td>\n",
       "      <td>P</td>\n",
       "      <td>1</td>\n",
       "      <td>1</td>\n",
       "    </tr>\n",
       "    <tr>\n",
       "      <th>1</th>\n",
       "      <td>Earth</td>\n",
       "      <td>False</td>\n",
       "      <td>TRAPPIST-1e</td>\n",
       "      <td>24.0</td>\n",
       "      <td>False</td>\n",
       "      <td>109.0</td>\n",
       "      <td>9.0</td>\n",
       "      <td>25.0</td>\n",
       "      <td>549.0</td>\n",
       "      <td>44.0</td>\n",
       "      <td>True</td>\n",
       "      <td>F</td>\n",
       "      <td>0</td>\n",
       "      <td>S</td>\n",
       "      <td>2</td>\n",
       "      <td>1</td>\n",
       "    </tr>\n",
       "    <tr>\n",
       "      <th>2</th>\n",
       "      <td>Europa</td>\n",
       "      <td>False</td>\n",
       "      <td>TRAPPIST-1e</td>\n",
       "      <td>58.0</td>\n",
       "      <td>True</td>\n",
       "      <td>43.0</td>\n",
       "      <td>3576.0</td>\n",
       "      <td>0.0</td>\n",
       "      <td>6715.0</td>\n",
       "      <td>49.0</td>\n",
       "      <td>False</td>\n",
       "      <td>A</td>\n",
       "      <td>0</td>\n",
       "      <td>S</td>\n",
       "      <td>3</td>\n",
       "      <td>1</td>\n",
       "    </tr>\n",
       "    <tr>\n",
       "      <th>3</th>\n",
       "      <td>Europa</td>\n",
       "      <td>False</td>\n",
       "      <td>TRAPPIST-1e</td>\n",
       "      <td>33.0</td>\n",
       "      <td>False</td>\n",
       "      <td>0.0</td>\n",
       "      <td>1283.0</td>\n",
       "      <td>371.0</td>\n",
       "      <td>3329.0</td>\n",
       "      <td>193.0</td>\n",
       "      <td>False</td>\n",
       "      <td>A</td>\n",
       "      <td>0</td>\n",
       "      <td>S</td>\n",
       "      <td>3</td>\n",
       "      <td>2</td>\n",
       "    </tr>\n",
       "    <tr>\n",
       "      <th>4</th>\n",
       "      <td>Earth</td>\n",
       "      <td>False</td>\n",
       "      <td>TRAPPIST-1e</td>\n",
       "      <td>16.0</td>\n",
       "      <td>False</td>\n",
       "      <td>303.0</td>\n",
       "      <td>70.0</td>\n",
       "      <td>151.0</td>\n",
       "      <td>565.0</td>\n",
       "      <td>2.0</td>\n",
       "      <td>True</td>\n",
       "      <td>F</td>\n",
       "      <td>1</td>\n",
       "      <td>S</td>\n",
       "      <td>4</td>\n",
       "      <td>1</td>\n",
       "    </tr>\n",
       "  </tbody>\n",
       "</table>\n",
       "</div>"
      ],
      "text/plain": [
       "  HomePlanet  CryoSleep  Destination   Age    VIP  RoomService  FoodCourt  \\\n",
       "0     Europa      False  TRAPPIST-1e  39.0  False          0.0        0.0   \n",
       "1      Earth      False  TRAPPIST-1e  24.0  False        109.0        9.0   \n",
       "2     Europa      False  TRAPPIST-1e  58.0   True         43.0     3576.0   \n",
       "3     Europa      False  TRAPPIST-1e  33.0  False          0.0     1283.0   \n",
       "4      Earth      False  TRAPPIST-1e  16.0  False        303.0       70.0   \n",
       "\n",
       "   ShoppingMall     Spa  VRDeck  Transported Deck  Num Side  GroupId  \\\n",
       "0           0.0     0.0     0.0        False    B    0    P        1   \n",
       "1          25.0   549.0    44.0         True    F    0    S        2   \n",
       "2           0.0  6715.0    49.0        False    A    0    S        3   \n",
       "3         371.0  3329.0   193.0        False    A    0    S        3   \n",
       "4         151.0   565.0     2.0         True    F    1    S        4   \n",
       "\n",
       "   PassengerNum  \n",
       "0             1  \n",
       "1             1  \n",
       "2             1  \n",
       "3             2  \n",
       "4             1  "
      ]
     },
     "execution_count": 1428,
     "metadata": {},
     "output_type": "execute_result"
    }
   ],
   "source": [
    "df.head()"
   ]
  },
  {
   "cell_type": "markdown",
   "id": "d19cd4cb",
   "metadata": {},
   "source": [
    "# One-Hot Encoding"
   ]
  },
  {
   "cell_type": "code",
   "execution_count": 1429,
   "id": "8bd4dc9f",
   "metadata": {},
   "outputs": [
    {
     "data": {
      "text/html": [
       "<div>\n",
       "<style scoped>\n",
       "    .dataframe tbody tr th:only-of-type {\n",
       "        vertical-align: middle;\n",
       "    }\n",
       "\n",
       "    .dataframe tbody tr th {\n",
       "        vertical-align: top;\n",
       "    }\n",
       "\n",
       "    .dataframe thead th {\n",
       "        text-align: right;\n",
       "    }\n",
       "</style>\n",
       "<table border=\"1\" class=\"dataframe\">\n",
       "  <thead>\n",
       "    <tr style=\"text-align: right;\">\n",
       "      <th></th>\n",
       "      <th>CryoSleep</th>\n",
       "      <th>Age</th>\n",
       "      <th>VIP</th>\n",
       "      <th>RoomService</th>\n",
       "      <th>FoodCourt</th>\n",
       "      <th>ShoppingMall</th>\n",
       "      <th>Spa</th>\n",
       "      <th>VRDeck</th>\n",
       "      <th>Transported</th>\n",
       "      <th>Num</th>\n",
       "      <th>...</th>\n",
       "      <th>Destination_PSO J318.5-22</th>\n",
       "      <th>Destination_TRAPPIST-1e</th>\n",
       "      <th>Deck_B</th>\n",
       "      <th>Deck_C</th>\n",
       "      <th>Deck_D</th>\n",
       "      <th>Deck_E</th>\n",
       "      <th>Deck_F</th>\n",
       "      <th>Deck_G</th>\n",
       "      <th>Deck_T</th>\n",
       "      <th>Side_S</th>\n",
       "    </tr>\n",
       "  </thead>\n",
       "  <tbody>\n",
       "    <tr>\n",
       "      <th>0</th>\n",
       "      <td>False</td>\n",
       "      <td>39.0</td>\n",
       "      <td>False</td>\n",
       "      <td>0.0</td>\n",
       "      <td>0.0</td>\n",
       "      <td>0.0</td>\n",
       "      <td>0.0</td>\n",
       "      <td>0.0</td>\n",
       "      <td>False</td>\n",
       "      <td>0</td>\n",
       "      <td>...</td>\n",
       "      <td>0</td>\n",
       "      <td>1</td>\n",
       "      <td>1</td>\n",
       "      <td>0</td>\n",
       "      <td>0</td>\n",
       "      <td>0</td>\n",
       "      <td>0</td>\n",
       "      <td>0</td>\n",
       "      <td>0</td>\n",
       "      <td>0</td>\n",
       "    </tr>\n",
       "    <tr>\n",
       "      <th>1</th>\n",
       "      <td>False</td>\n",
       "      <td>24.0</td>\n",
       "      <td>False</td>\n",
       "      <td>109.0</td>\n",
       "      <td>9.0</td>\n",
       "      <td>25.0</td>\n",
       "      <td>549.0</td>\n",
       "      <td>44.0</td>\n",
       "      <td>True</td>\n",
       "      <td>0</td>\n",
       "      <td>...</td>\n",
       "      <td>0</td>\n",
       "      <td>1</td>\n",
       "      <td>0</td>\n",
       "      <td>0</td>\n",
       "      <td>0</td>\n",
       "      <td>0</td>\n",
       "      <td>1</td>\n",
       "      <td>0</td>\n",
       "      <td>0</td>\n",
       "      <td>1</td>\n",
       "    </tr>\n",
       "    <tr>\n",
       "      <th>2</th>\n",
       "      <td>False</td>\n",
       "      <td>58.0</td>\n",
       "      <td>True</td>\n",
       "      <td>43.0</td>\n",
       "      <td>3576.0</td>\n",
       "      <td>0.0</td>\n",
       "      <td>6715.0</td>\n",
       "      <td>49.0</td>\n",
       "      <td>False</td>\n",
       "      <td>0</td>\n",
       "      <td>...</td>\n",
       "      <td>0</td>\n",
       "      <td>1</td>\n",
       "      <td>0</td>\n",
       "      <td>0</td>\n",
       "      <td>0</td>\n",
       "      <td>0</td>\n",
       "      <td>0</td>\n",
       "      <td>0</td>\n",
       "      <td>0</td>\n",
       "      <td>1</td>\n",
       "    </tr>\n",
       "    <tr>\n",
       "      <th>3</th>\n",
       "      <td>False</td>\n",
       "      <td>33.0</td>\n",
       "      <td>False</td>\n",
       "      <td>0.0</td>\n",
       "      <td>1283.0</td>\n",
       "      <td>371.0</td>\n",
       "      <td>3329.0</td>\n",
       "      <td>193.0</td>\n",
       "      <td>False</td>\n",
       "      <td>0</td>\n",
       "      <td>...</td>\n",
       "      <td>0</td>\n",
       "      <td>1</td>\n",
       "      <td>0</td>\n",
       "      <td>0</td>\n",
       "      <td>0</td>\n",
       "      <td>0</td>\n",
       "      <td>0</td>\n",
       "      <td>0</td>\n",
       "      <td>0</td>\n",
       "      <td>1</td>\n",
       "    </tr>\n",
       "    <tr>\n",
       "      <th>4</th>\n",
       "      <td>False</td>\n",
       "      <td>16.0</td>\n",
       "      <td>False</td>\n",
       "      <td>303.0</td>\n",
       "      <td>70.0</td>\n",
       "      <td>151.0</td>\n",
       "      <td>565.0</td>\n",
       "      <td>2.0</td>\n",
       "      <td>True</td>\n",
       "      <td>1</td>\n",
       "      <td>...</td>\n",
       "      <td>0</td>\n",
       "      <td>1</td>\n",
       "      <td>0</td>\n",
       "      <td>0</td>\n",
       "      <td>0</td>\n",
       "      <td>0</td>\n",
       "      <td>1</td>\n",
       "      <td>0</td>\n",
       "      <td>0</td>\n",
       "      <td>1</td>\n",
       "    </tr>\n",
       "  </tbody>\n",
       "</table>\n",
       "<p>5 rows × 24 columns</p>\n",
       "</div>"
      ],
      "text/plain": [
       "   CryoSleep   Age    VIP  RoomService  FoodCourt  ShoppingMall     Spa  \\\n",
       "0      False  39.0  False          0.0        0.0           0.0     0.0   \n",
       "1      False  24.0  False        109.0        9.0          25.0   549.0   \n",
       "2      False  58.0   True         43.0     3576.0           0.0  6715.0   \n",
       "3      False  33.0  False          0.0     1283.0         371.0  3329.0   \n",
       "4      False  16.0  False        303.0       70.0         151.0   565.0   \n",
       "\n",
       "   VRDeck  Transported  Num  ...  Destination_PSO J318.5-22  \\\n",
       "0     0.0        False    0  ...                          0   \n",
       "1    44.0         True    0  ...                          0   \n",
       "2    49.0        False    0  ...                          0   \n",
       "3   193.0        False    0  ...                          0   \n",
       "4     2.0         True    1  ...                          0   \n",
       "\n",
       "   Destination_TRAPPIST-1e  Deck_B  Deck_C  Deck_D  Deck_E  Deck_F  Deck_G  \\\n",
       "0                        1       1       0       0       0       0       0   \n",
       "1                        1       0       0       0       0       1       0   \n",
       "2                        1       0       0       0       0       0       0   \n",
       "3                        1       0       0       0       0       0       0   \n",
       "4                        1       0       0       0       0       1       0   \n",
       "\n",
       "   Deck_T  Side_S  \n",
       "0       0       0  \n",
       "1       0       1  \n",
       "2       0       1  \n",
       "3       0       1  \n",
       "4       0       1  \n",
       "\n",
       "[5 rows x 24 columns]"
      ]
     },
     "execution_count": 1429,
     "metadata": {},
     "output_type": "execute_result"
    }
   ],
   "source": [
    "# One-hot encode categorical columns\n",
    "df = pd.get_dummies(df, columns=['HomePlanet', 'Destination', 'Deck', 'Side'], drop_first=True)\n",
    "\n",
    "# Check the resulting DataFrame\n",
    "df.head()"
   ]
  },
  {
   "cell_type": "markdown",
   "id": "ea2d0ec2",
   "metadata": {},
   "source": [
    "# Create new column"
   ]
  },
  {
   "cell_type": "code",
   "execution_count": 1430,
   "id": "11e5a8f8",
   "metadata": {},
   "outputs": [
    {
     "data": {
      "image/png": "[encoded data removed]",
      "text/plain": [
       "<Figure size 640x480 with 1 Axes>"
      ]
     },
     "metadata": {},
     "output_type": "display_data"
    }
   ],
   "source": [
    "# Create Total_Spend column\n",
    "df['Total_Spend'] = df[['RoomService', 'FoodCourt', 'ShoppingMall', 'Spa', 'VRDeck']].sum(axis=1)\n",
    "df['Total_Spend'] = np.log1p(df['Total_Spend'])\n",
    "# Plot histogram with KDE\n",
    "sns.histplot(df['Total_Spend'], kde=True, bins=10)\n",
    "\n",
    "# Show plot\n",
    "plt.show()"
   ]
  },
  {
   "cell_type": "code",
   "execution_count": 1431,
   "id": "2c7f5cfd",
   "metadata": {},
   "outputs": [
    {
     "data": {
      "text/plain": [
       "(7603, 25)"
      ]
     },
     "execution_count": 1431,
     "metadata": {},
     "output_type": "execute_result"
    }
   ],
   "source": [
    "df.shape"
   ]
  },
  {
   "cell_type": "markdown",
   "id": "6b2665e6",
   "metadata": {},
   "source": [
    "# Seperate features, target and split train and test"
   ]
  },
  {
   "cell_type": "code",
   "execution_count": 1432,
   "id": "4304ef14",
   "metadata": {},
   "outputs": [],
   "source": [
    "# Separate features and target\n",
    "X = df.drop('Transported', axis=1)\n",
    "y = df['Transported'].astype(int)  # Convert True/False to 1/0 if needed\n",
    "X[['CryoSleep', 'VIP']] = df[['CryoSleep', 'VIP']].astype(int)"
   ]
  },
  {
   "cell_type": "code",
   "execution_count": 1459,
   "id": "2a1752c8",
   "metadata": {},
   "outputs": [
    {
     "name": "stdout",
     "output_type": "stream",
     "text": [
      "(6082, 24) (1521, 24) (6082,) (1521,)\n"
     ]
    }
   ],
   "source": [
    "from sklearn.model_selection import train_test_split\n",
    "\n",
    "# Split the dataset\n",
    "X_train, X_test, y_train, y_test = train_test_split(X, y, test_size=0.2, random_state=40, stratify=y)\n",
    "\n",
    "# Check the shape of the splits\n",
    "print(X_train.shape, X_test.shape, y_train.shape, y_test.shape)"
   ]
  },
  {
   "cell_type": "markdown",
   "id": "b7054124",
   "metadata": {},
   "source": [
    "# Scale Data"
   ]
  },
  {
   "cell_type": "code",
   "execution_count": 1460,
   "id": "acce8245",
   "metadata": {},
   "outputs": [],
   "source": [
    "from sklearn.preprocessing import StandardScaler\n",
    "\n",
    "scaler = StandardScaler()\n",
    "X_train = scaler.fit_transform(X_train)\n",
    "X_test = scaler.transform(X_test)"
   ]
  },
  {
   "cell_type": "markdown",
   "id": "03617ba3",
   "metadata": {},
   "source": [
    "# Build Models"
   ]
  },
  {
   "cell_type": "code",
   "execution_count": 1461,
   "id": "1a159823",
   "metadata": {},
   "outputs": [],
   "source": [
    "from sklearn.metrics import accuracy_score, classification_report\n",
    "\n",
    "# Initialize the Logistic Regression model\n",
    "model = LogisticRegression(max_iter=1000, random_state=42)\n",
    "\n",
    "# Fit the model\n",
    "model.fit(X_train, y_train)\n",
    "\n",
    "# Predict on the test set\n",
    "y_pred = model.predict(X_test)"
   ]
  },
  {
   "cell_type": "code",
   "execution_count": 1462,
   "id": "e3cd9330",
   "metadata": {},
   "outputs": [
    {
     "name": "stdout",
     "output_type": "stream",
     "text": [
      "Test accuracy: 0.7804076265614727\n",
      "Classification Report:\n",
      "               precision    recall  f1-score   support\n",
      "\n",
      "           0       0.79      0.76      0.78       757\n",
      "           1       0.77      0.80      0.79       764\n",
      "\n",
      "    accuracy                           0.78      1521\n",
      "   macro avg       0.78      0.78      0.78      1521\n",
      "weighted avg       0.78      0.78      0.78      1521\n",
      "\n"
     ]
    }
   ],
   "source": [
    "# Evaluate the model\n",
    "accuracy = accuracy_score(y_test, y_pred)\n",
    "print(\"Test accuracy:\", accuracy)\n",
    "print(\"Classification Report:\\n\", classification_report(y_test, y_pred))"
   ]
  },
  {
   "cell_type": "code",
   "execution_count": 1463,
   "id": "1d5ec874",
   "metadata": {},
   "outputs": [],
   "source": [
    "# Predictions on training and test sets\n",
    "y_train_pred = model.predict(X_train)\n",
    "y_test_pred = model.predict(X_test)"
   ]
  },
  {
   "cell_type": "code",
   "execution_count": 1464,
   "id": "1396741a",
   "metadata": {},
   "outputs": [
    {
     "name": "stdout",
     "output_type": "stream",
     "text": [
      "Training Accuracy: 0.7966129562643867\n"
     ]
    }
   ],
   "source": [
    "# Accuracy for train and test\n",
    "train_accuracy = accuracy_score(y_train, y_train_pred)\n",
    "print(\"Training Accuracy:\", train_accuracy)"
   ]
  },
  {
   "cell_type": "code",
   "execution_count": 1465,
   "id": "2046d400",
   "metadata": {},
   "outputs": [
    {
     "name": "stdout",
     "output_type": "stream",
     "text": [
      "Random Forest Test Accuracy: 0.7836949375410914\n"
     ]
    }
   ],
   "source": [
    "from sklearn.ensemble import RandomForestClassifier\n",
    "\n",
    "rf_model = RandomForestClassifier(random_state=42)\n",
    "rf_model.fit(X_train, y_train)\n",
    "y_test_rf_pred = rf_model.predict(X_test)\n",
    "print(\"Random Forest Test Accuracy:\", accuracy_score(y_test, y_test_rf_pred))"
   ]
  },
  {
   "cell_type": "code",
   "execution_count": 1466,
   "id": "d7f11785",
   "metadata": {
    "scrolled": false
   },
   "outputs": [],
   "source": [
    "import xgboost as xgb\n",
    "from sklearn.svm import SVC"
   ]
  },
  {
   "cell_type": "code",
   "execution_count": 1467,
   "id": "62a7b942",
   "metadata": {},
   "outputs": [],
   "source": [
    "models = {\n",
    "    'Logistic Regression': LogisticRegression(max_iter=1000),\n",
    "    'Random Forest': RandomForestClassifier(n_estimators=100, random_state=42),\n",
    "    'SVM': SVC(),\n",
    "    'XGBoost': xgb.XGBClassifier(use_label_encoder=False, eval_metric='mlogloss')\n",
    "}"
   ]
  },
  {
   "cell_type": "code",
   "execution_count": 1468,
   "id": "371af863",
   "metadata": {},
   "outputs": [
    {
     "name": "stdout",
     "output_type": "stream",
     "text": [
      "Model: Logistic Regression\n",
      "Accuracy: 0.7804\n",
      "Classification Report:\n",
      "              precision    recall  f1-score   support\n",
      "\n",
      "           0       0.79      0.76      0.78       757\n",
      "           1       0.77      0.80      0.79       764\n",
      "\n",
      "    accuracy                           0.78      1521\n",
      "   macro avg       0.78      0.78      0.78      1521\n",
      "weighted avg       0.78      0.78      0.78      1521\n",
      "\n",
      "==================================================\n",
      "Model: Random Forest\n",
      "Accuracy: 0.7837\n",
      "Classification Report:\n",
      "              precision    recall  f1-score   support\n",
      "\n",
      "           0       0.77      0.81      0.79       757\n",
      "           1       0.80      0.75      0.78       764\n",
      "\n",
      "    accuracy                           0.78      1521\n",
      "   macro avg       0.78      0.78      0.78      1521\n",
      "weighted avg       0.78      0.78      0.78      1521\n",
      "\n",
      "==================================================\n",
      "Model: SVM\n",
      "Accuracy: 0.7975\n",
      "Classification Report:\n",
      "              precision    recall  f1-score   support\n",
      "\n",
      "           0       0.80      0.80      0.80       757\n",
      "           1       0.80      0.80      0.80       764\n",
      "\n",
      "    accuracy                           0.80      1521\n",
      "   macro avg       0.80      0.80      0.80      1521\n",
      "weighted avg       0.80      0.80      0.80      1521\n",
      "\n",
      "==================================================\n"
     ]
    },
    {
     "name": "stderr",
     "output_type": "stream",
     "text": [
      "C:\\Anaconda3\\lib\\site-packages\\xgboost\\core.py:158: UserWarning: [16:16:36] WARNING: C:\\buildkite-agent\\builds\\buildkite-windows-cpu-autoscaling-group-i-0c55ff5f71b100e98-1\\xgboost\\xgboost-ci-windows\\src\\learner.cc:740: \n",
      "Parameters: { \"use_label_encoder\" } are not used.\n",
      "\n",
      "  warnings.warn(smsg, UserWarning)\n"
     ]
    },
    {
     "name": "stdout",
     "output_type": "stream",
     "text": [
      "Model: XGBoost\n",
      "Accuracy: 0.7916\n",
      "Classification Report:\n",
      "              precision    recall  f1-score   support\n",
      "\n",
      "           0       0.79      0.80      0.79       757\n",
      "           1       0.80      0.79      0.79       764\n",
      "\n",
      "    accuracy                           0.79      1521\n",
      "   macro avg       0.79      0.79      0.79      1521\n",
      "weighted avg       0.79      0.79      0.79      1521\n",
      "\n",
      "==================================================\n"
     ]
    }
   ],
   "source": [
    "for model_name, model in models.items():\n",
    "    # Train the model\n",
    "    model.fit(X_train, y_train)\n",
    "    \n",
    "    # Make predictions on the test set\n",
    "    y_pred = model.predict(X_test)\n",
    "    \n",
    "    # Evaluate the model\n",
    "    accuracy = accuracy_score(y_test, y_pred)\n",
    "    report = classification_report(y_test, y_pred)\n",
    "    \n",
    "    # Print the results\n",
    "    print(f\"Model: {model_name}\")\n",
    "    print(f\"Accuracy: {accuracy:.4f}\")\n",
    "    print(f\"Classification Report:\\n{report}\")\n",
    "    print(\"=\"*50)"
   ]
  },
  {
   "cell_type": "code",
   "execution_count": 1469,
   "id": "ae893182",
   "metadata": {},
   "outputs": [
    {
     "name": "stdout",
     "output_type": "stream",
     "text": [
      "0:\tlearn: 0.6495263\ttotal: 4.29ms\tremaining: 12.9s\n",
      "500:\tlearn: 0.1796611\ttotal: 1.91s\tremaining: 9.52s\n",
      "1000:\tlearn: 0.1104724\ttotal: 3.84s\tremaining: 7.66s\n",
      "1500:\tlearn: 0.0757308\ttotal: 5.74s\tremaining: 5.74s\n",
      "2000:\tlearn: 0.0545126\ttotal: 7.66s\tremaining: 3.82s\n",
      "2500:\tlearn: 0.0408598\ttotal: 9.58s\tremaining: 1.91s\n",
      "2999:\tlearn: 0.0320216\ttotal: 11.5s\tremaining: 0us\n",
      "CatBoost Test Accuracy: 0.7942143326758712\n",
      "              precision    recall  f1-score   support\n",
      "\n",
      "           0       0.79      0.80      0.80       757\n",
      "           1       0.80      0.78      0.79       764\n",
      "\n",
      "    accuracy                           0.79      1521\n",
      "   macro avg       0.79      0.79      0.79      1521\n",
      "weighted avg       0.79      0.79      0.79      1521\n",
      "\n"
     ]
    }
   ],
   "source": [
    "from catboost import CatBoostClassifier\n",
    "\n",
    "# Initialize CatBoostClassifier\n",
    "catboost_model = CatBoostClassifier(iterations=3000, depth=6, learning_rate=0.1, verbose=500)\n",
    "\n",
    "# Fit the model\n",
    "catboost_model.fit(X_train, y_train)\n",
    "\n",
    "# Make predictions on the test set\n",
    "y_pred_catboost = catboost_model.predict(X_test)\n",
    "\n",
    "# Evaluate the model\n",
    "accuracy_catboost = accuracy_score(y_test, y_pred_catboost)\n",
    "print(f\"CatBoost Test Accuracy: {accuracy_catboost}\")\n",
    "print(classification_report(y_test, y_pred_catboost))\n"
   ]
  },
  {
   "cell_type": "code",
   "execution_count": 1470,
   "id": "0692e223",
   "metadata": {},
   "outputs": [
    {
     "name": "stdout",
     "output_type": "stream",
     "text": [
      "[LightGBM] [Info] Number of positive: 3055, number of negative: 3027\n",
      "[LightGBM] [Info] Auto-choosing col-wise multi-threading, the overhead of testing was 0.003141 seconds.\n",
      "You can set `force_col_wise=true` to remove the overhead.\n",
      "[LightGBM] [Info] Total Bins 2166\n",
      "[LightGBM] [Info] Number of data points in the train set: 6082, number of used features: 23\n",
      "[LightGBM] [Info] [binary:BoostFromScore]: pavg=0.502302 -> initscore=0.009208\n",
      "[LightGBM] [Info] Start training from score 0.009208\n",
      "LightGBM Test Accuracy: 0.8152531229454306\n",
      "              precision    recall  f1-score   support\n",
      "\n",
      "           0       0.81      0.82      0.81       757\n",
      "           1       0.82      0.82      0.82       764\n",
      "\n",
      "    accuracy                           0.82      1521\n",
      "   macro avg       0.82      0.82      0.82      1521\n",
      "weighted avg       0.82      0.82      0.82      1521\n",
      "\n"
     ]
    }
   ],
   "source": [
    "import lightgbm as lgb\n",
    "\n",
    "# Initialize LightGBM\n",
    "lgb_model = lgb.LGBMClassifier(n_estimators=100, learning_rate=0.1, max_depth=10)\n",
    "\n",
    "# Fit the model\n",
    "lgb_model.fit(X_train, y_train)\n",
    "\n",
    "# Make predictions on the test set\n",
    "y_pred_lgb = lgb_model.predict(X_test)\n",
    "\n",
    "# Evaluate the model\n",
    "accuracy_lgb = accuracy_score(y_test, y_pred_lgb)\n",
    "print(f\"LightGBM Test Accuracy: {accuracy_lgb}\")\n",
    "print(classification_report(y_test, y_pred_lgb))\n"
   ]
  },
  {
   "cell_type": "code",
   "execution_count": null,
   "id": "6ba421a9",
   "metadata": {},
   "outputs": [],
   "source": []
  },
  {
   "cell_type": "code",
   "execution_count": 1471,
   "id": "b14ed8c2",
   "metadata": {},
   "outputs": [],
   "source": [
    "# #Train with full data\n",
    "# X = scaler.transform(X)\n",
    "# #Initialize LightGBM\n",
    "# lgb_model_full = lgb.LGBMClassifier(n_estimators=100, learning_rate=0.1, max_depth=10, lambda_l1=0.1, lambda_l2=1)\n",
    "\n",
    "# # Fit the model\n",
    "# lgb_model_full.fit(X, y)\n",
    "\n",
    "# # Make predictions on the test set\n",
    "# y_pred_lgb = lgb_model_full.predict(X_test)\n",
    "\n",
    "# # Evaluate the model\n",
    "# accuracy_lgb = accuracy_score(y_test, y_pred_lgb)\n",
    "# print(f\"LightGBM Test Accuracy: {accuracy_lgb}\")\n",
    "# print(classification_report(y_test, y_pred_lgb))"
   ]
  },
  {
   "cell_type": "code",
   "execution_count": null,
   "id": "a57e0760",
   "metadata": {},
   "outputs": [],
   "source": []
  },
  {
   "cell_type": "code",
   "execution_count": null,
   "id": "9ae23a98",
   "metadata": {},
   "outputs": [],
   "source": []
  },
  {
   "cell_type": "code",
   "execution_count": null,
   "id": "2601d513",
   "metadata": {},
   "outputs": [],
   "source": []
  },
  {
   "cell_type": "code",
   "execution_count": null,
   "id": "ba9dbe7b",
   "metadata": {},
   "outputs": [],
   "source": []
  },
  {
   "cell_type": "code",
   "execution_count": null,
   "id": "e0df6094",
   "metadata": {},
   "outputs": [],
   "source": []
  },
  {
   "cell_type": "code",
   "execution_count": 1472,
   "id": "8d25389b",
   "metadata": {},
   "outputs": [],
   "source": [
    "test_data = pd.read_csv('test.csv')"
   ]
  },
  {
   "cell_type": "code",
   "execution_count": 1473,
   "id": "d8c64b7a",
   "metadata": {},
   "outputs": [
    {
     "data": {
      "text/plain": [
       "PassengerId       0\n",
       "HomePlanet       87\n",
       "CryoSleep        93\n",
       "Cabin           100\n",
       "Destination      92\n",
       "Age              91\n",
       "VIP              93\n",
       "RoomService      82\n",
       "FoodCourt       106\n",
       "ShoppingMall     98\n",
       "Spa             101\n",
       "VRDeck           80\n",
       "Name             94\n",
       "dtype: int64"
      ]
     },
     "execution_count": 1473,
     "metadata": {},
     "output_type": "execute_result"
    }
   ],
   "source": [
    "test_data.isnull().sum()"
   ]
  },
  {
   "cell_type": "code",
   "execution_count": 1474,
   "id": "77db1ee2",
   "metadata": {
    "scrolled": true
   },
   "outputs": [
    {
     "data": {
      "text/plain": [
       "(4277, 13)"
      ]
     },
     "execution_count": 1474,
     "metadata": {},
     "output_type": "execute_result"
    }
   ],
   "source": [
    "test_data.shape"
   ]
  },
  {
   "cell_type": "code",
   "execution_count": 1475,
   "id": "2a72f851",
   "metadata": {},
   "outputs": [],
   "source": [
    "passenger_id = test_data['PassengerId']"
   ]
  },
  {
   "cell_type": "code",
   "execution_count": 1476,
   "id": "ea6becea",
   "metadata": {},
   "outputs": [
    {
     "data": {
      "text/plain": [
       "1    3819\n",
       "0    3784\n",
       "Name: Transported, dtype: int64"
      ]
     },
     "execution_count": 1476,
     "metadata": {},
     "output_type": "execute_result"
    }
   ],
   "source": [
    "y.value_counts()"
   ]
  },
  {
   "cell_type": "code",
   "execution_count": 1477,
   "id": "bb9d30e2",
   "metadata": {},
   "outputs": [],
   "source": [
    "\n",
    "def preprocess_and_predict(test_df, lgb_model, scaler):\n",
    "    # Drop 'Name' column (if exists)\n",
    "    if 'Name' in test_df.columns:\n",
    "        test_df.drop(columns=['Name'], inplace=True)\n",
    "    \n",
    "    # Fill missing values for categorical columns with the most frequent value (mode)\n",
    "    test_df['HomePlanet'].fillna(test_df['HomePlanet'].mode()[0], inplace=True)\n",
    "    test_df['Destination'].fillna(test_df['Destination'].mode()[0], inplace=True)\n",
    "    test_df['CryoSleep'].fillna(False, inplace=True)  # Assuming missing means not in cryosleep\n",
    "    test_df['VIP'].fillna(False, inplace=True)  # Assuming missing means not a VIP\n",
    "    \n",
    "    # Fill missing values for numerical columns (RoomService, FoodCourt, etc.) with 0\n",
    "    test_df['RoomService'].fillna(0, inplace=True)\n",
    "    test_df['FoodCourt'].fillna(0, inplace=True)\n",
    "    test_df['ShoppingMall'].fillna(0, inplace=True)\n",
    "    test_df['Spa'].fillna(0, inplace=True)\n",
    "    test_df['VRDeck'].fillna(0, inplace=True)\n",
    "    \n",
    "    # Fill missing 'Age' with the median value\n",
    "    test_df['Age'].fillna(test_df['Age'].median(), inplace=True)\n",
    "    \n",
    "    # Split the 'Cabin' column into 'Deck', 'Num', and 'Side'\n",
    "    test_df[['Deck', 'Num', 'Side']] = test_df['Cabin'].str.split('/', expand=True)\n",
    "    \n",
    "    # Fill missing values in the 'Deck' and 'Side' columns with the most frequent value (mode)\n",
    "    test_df['Deck'].fillna(test_df['Deck'].mode()[0], inplace=True)\n",
    "    test_df['Side'].fillna(test_df['Side'].mode()[0], inplace=True)\n",
    "    \n",
    "    # Fill missing values in the 'Num' column with the median value\n",
    "    test_df['Num'] = pd.to_numeric(test_df['Num'], errors='coerce')  # Convert to numeric\n",
    "    test_df['Num'].fillna(test_df['Num'].median(), inplace=True)  # Filling with the median\n",
    "    \n",
    "    # Split 'PassengerId' into 'GroupId' and 'PassengerNum'\n",
    "    test_df[['GroupId', 'PassengerNum']] = test_df['PassengerId'].str.split('_', expand=True)\n",
    "    test_df['GroupId'] = test_df['GroupId'].astype(int)\n",
    "    test_df['PassengerNum'] = test_df['PassengerNum'].astype(int)\n",
    "    \n",
    "    # Drop 'PassengerId' and 'Cabin' columns (as they are not useful for prediction now)\n",
    "    test_df.drop(columns=['PassengerId', 'Cabin'], inplace=True)\n",
    "    \n",
    "    # One-hot encode categorical columns (this should match the training data transformation)\n",
    "    test_df = pd.get_dummies(test_df, columns=['HomePlanet', 'Destination', 'Deck', 'Side'], drop_first=True)\n",
    "    \n",
    "    # Create Total_Spend column (similar to the training transformation)\n",
    "    test_df['Total_Spend'] = test_df[['RoomService', 'FoodCourt', 'ShoppingMall', 'Spa', 'VRDeck']].sum(axis=1)\n",
    "    test_df['Total_Spend'] = np.log1p(test_df['Total_Spend'])  # Apply log transformation\n",
    "    \n",
    "    # Apply the same scaling as done in the training data (using the scaler fit during training)\n",
    "    test_df_scaled = scaler.transform(test_df)\n",
    "    \n",
    "    # Make predictions with the trained model\n",
    "    y_pred_test = lgb_model.predict(test_df_scaled)\n",
    "    \n",
    "    # Optionally, if you want to output the predictions in a CSV or see them\n",
    "    test_df['Prediction'] = y_pred_test\n",
    "    \n",
    "    return test_df[['Prediction']]\n",
    "\n",
    "# Example usage\n",
    "# Assuming test_data is your input DataFrame, lgb_model is your trained LightGBM model, \n",
    "# and scaler is the StandardScaler used during training\n",
    "predictions = preprocess_and_predict(test_data, lgb_model, scaler)\n",
    "\n",
    "# To save predictions to a CSV\n",
    "# predictions.to_csv('predictions3.csv', index=False)\n"
   ]
  },
  {
   "cell_type": "code",
   "execution_count": 1478,
   "id": "2625cdf0",
   "metadata": {},
   "outputs": [
    {
     "data": {
      "text/html": [
       "<div>\n",
       "<style scoped>\n",
       "    .dataframe tbody tr th:only-of-type {\n",
       "        vertical-align: middle;\n",
       "    }\n",
       "\n",
       "    .dataframe tbody tr th {\n",
       "        vertical-align: top;\n",
       "    }\n",
       "\n",
       "    .dataframe thead th {\n",
       "        text-align: right;\n",
       "    }\n",
       "</style>\n",
       "<table border=\"1\" class=\"dataframe\">\n",
       "  <thead>\n",
       "    <tr style=\"text-align: right;\">\n",
       "      <th></th>\n",
       "      <th>Prediction</th>\n",
       "    </tr>\n",
       "  </thead>\n",
       "  <tbody>\n",
       "    <tr>\n",
       "      <th>0</th>\n",
       "      <td>0</td>\n",
       "    </tr>\n",
       "    <tr>\n",
       "      <th>1</th>\n",
       "      <td>0</td>\n",
       "    </tr>\n",
       "    <tr>\n",
       "      <th>2</th>\n",
       "      <td>1</td>\n",
       "    </tr>\n",
       "    <tr>\n",
       "      <th>3</th>\n",
       "      <td>1</td>\n",
       "    </tr>\n",
       "    <tr>\n",
       "      <th>4</th>\n",
       "      <td>1</td>\n",
       "    </tr>\n",
       "    <tr>\n",
       "      <th>...</th>\n",
       "      <td>...</td>\n",
       "    </tr>\n",
       "    <tr>\n",
       "      <th>4272</th>\n",
       "      <td>1</td>\n",
       "    </tr>\n",
       "    <tr>\n",
       "      <th>4273</th>\n",
       "      <td>0</td>\n",
       "    </tr>\n",
       "    <tr>\n",
       "      <th>4274</th>\n",
       "      <td>1</td>\n",
       "    </tr>\n",
       "    <tr>\n",
       "      <th>4275</th>\n",
       "      <td>1</td>\n",
       "    </tr>\n",
       "    <tr>\n",
       "      <th>4276</th>\n",
       "      <td>1</td>\n",
       "    </tr>\n",
       "  </tbody>\n",
       "</table>\n",
       "<p>4277 rows × 1 columns</p>\n",
       "</div>"
      ],
      "text/plain": [
       "      Prediction\n",
       "0              0\n",
       "1              0\n",
       "2              1\n",
       "3              1\n",
       "4              1\n",
       "...          ...\n",
       "4272           1\n",
       "4273           0\n",
       "4274           1\n",
       "4275           1\n",
       "4276           1\n",
       "\n",
       "[4277 rows x 1 columns]"
      ]
     },
     "execution_count": 1478,
     "metadata": {},
     "output_type": "execute_result"
    }
   ],
   "source": [
    "predictions"
   ]
  },
  {
   "cell_type": "code",
   "execution_count": 1479,
   "id": "53f1233d",
   "metadata": {},
   "outputs": [
    {
     "data": {
      "text/plain": [
       "Prediction\n",
       "1             2167\n",
       "0             2110\n",
       "dtype: int64"
      ]
     },
     "execution_count": 1479,
     "metadata": {},
     "output_type": "execute_result"
    }
   ],
   "source": [
    "predictions.value_counts()"
   ]
  },
  {
   "cell_type": "code",
   "execution_count": 1480,
   "id": "a0e4f567",
   "metadata": {},
   "outputs": [
    {
     "name": "stdout",
     "output_type": "stream",
     "text": [
      "     PassengerId Transported\n",
      "0        0013_01       False\n",
      "1        0018_01       False\n",
      "2        0019_01        True\n",
      "3        0021_01        True\n",
      "4        0023_01        True\n",
      "...          ...         ...\n",
      "4272     9266_02        True\n",
      "4273     9269_01       False\n",
      "4274     9271_01        True\n",
      "4275     9273_01        True\n",
      "4276     9277_01        True\n",
      "\n",
      "[4277 rows x 2 columns]\n"
     ]
    }
   ],
   "source": [
    "# Predictions is a DataFrame with shape (4277, 1)\n",
    "# Convert predictions to a NumPy array and flatten it\n",
    "predictions_flat = predictions.values.flatten()\n",
    "\n",
    "# Convert the predictions from 0/1 to True/False\n",
    "predictions_boolean = ['True' if x == 1 else 'False' for x in predictions_flat]\n",
    "\n",
    "# Create a DataFrame with 'PassengerId' and 'Transported'\n",
    "result_df = pd.DataFrame({\n",
    "    'PassengerId': passenger_id,  # Assuming 'passenger_id' is already extracted\n",
    "    'Transported': predictions_boolean\n",
    "})\n",
    "\n",
    "# Display the result\n",
    "print(result_df)\n",
    "\n",
    "# Optionally, save the result to a CSV file\n",
    "# result_df.to_csv('predictions.csv', index=False)\n"
   ]
  },
  {
   "cell_type": "code",
   "execution_count": 1481,
   "id": "04b799cb",
   "metadata": {},
   "outputs": [],
   "source": [
    "# result_df.to_csv('full_trained.csv', index=False)"
   ]
  },
  {
   "cell_type": "code",
   "execution_count": 1482,
   "id": "96e3fd4b",
   "metadata": {},
   "outputs": [
    {
     "name": "stdout",
     "output_type": "stream",
     "text": [
      "<class 'pandas.core.frame.DataFrame'>\n",
      "RangeIndex: 4277 entries, 0 to 4276\n",
      "Data columns (total 2 columns):\n",
      " #   Column       Non-Null Count  Dtype \n",
      "---  ------       --------------  ----- \n",
      " 0   PassengerId  4277 non-null   object\n",
      " 1   Transported  4277 non-null   object\n",
      "dtypes: object(2)\n",
      "memory usage: 67.0+ KB\n"
     ]
    }
   ],
   "source": [
    "result_df.info()"
   ]
  },
  {
   "cell_type": "code",
   "execution_count": 1483,
   "id": "eb9234fa",
   "metadata": {},
   "outputs": [],
   "source": [
    "# result_df.to_csv('submission_final.csv', index=False)"
   ]
  },
  {
   "cell_type": "code",
   "execution_count": null,
   "id": "8cc1bc7d",
   "metadata": {},
   "outputs": [],
   "source": []
  },
  {
   "cell_type": "code",
   "execution_count": null,
   "id": "01690182",
   "metadata": {},
   "outputs": [],
   "source": []
  },
  {
   "cell_type": "code",
   "execution_count": null,
   "id": "af1004a0",
   "metadata": {},
   "outputs": [],
   "source": []
  },
  {
   "cell_type": "code",
   "execution_count": null,
   "id": "a0423708",
   "metadata": {},
   "outputs": [],
   "source": []
  }
 ],
 "metadata": {
  "kernelspec": {
   "display_name": "Python 3 (ipykernel)",
   "language": "python",
   "name": "python3"
  },
  "language_info": {
   "codemirror_mode": {
    "name": "ipython",
    "version": 3
   },
   "file_extension": ".py",
   "mimetype": "text/x-python",
   "name": "python",
   "nbconvert_exporter": "python",
   "pygments_lexer": "ipython3",
   "version": "3.9.13"
  }
 },
 "nbformat": 4,
 "nbformat_minor": 5
}
